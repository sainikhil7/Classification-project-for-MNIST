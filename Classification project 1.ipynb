{
 "cells": [
  {
   "cell_type": "markdown",
   "metadata": {},
   "source": [
    "<h2>Group 25 (Classification Project1)</h2>"
   ]
  },
  {
   "cell_type": "markdown",
   "metadata": {},
   "source": [
    "<h4>Importing Modules that are needed for this project</h4>"
   ]
  },
  {
   "cell_type": "code",
   "execution_count": 2,
   "metadata": {},
   "outputs": [],
   "source": [
    "import tensorflow as tf\n",
    "import numpy as np\n",
    "import matplotlib.pyplot as plt\n",
    "from sklearn.neighbors import KNeighborsClassifier\n",
    "import pandas as pd\n",
    "from sklearn.decomposition import PCA\n",
    "import time"
   ]
  },
  {
   "cell_type": "markdown",
   "metadata": {},
   "source": [
    "<h4>Loading mnist data set by using tensor flow</h4>"
   ]
  },
  {
   "cell_type": "code",
   "execution_count": 6,
   "metadata": {},
   "outputs": [],
   "source": [
    "mnist = tf.keras.datasets.mnist\n",
    "(x_train, y_train), (x_test, y_test)=mnist.load_data()"
   ]
  },
  {
   "cell_type": "markdown",
   "metadata": {},
   "source": [
    "<h4>Reshaping x_train and y_train and then selecting random samples from the training data that can be used from the second question we used 960 samples from the training data set to do the leave one out cross validation from question 2</h4>"
   ]
  },
  {
   "cell_type": "code",
   "execution_count": 7,
   "metadata": {},
   "outputs": [],
   "source": [
    "nsamples, nx, ny = x_train.shape\n",
    "Xtrain = x_train.reshape((nsamples,nx*ny))#It is converting our 28*28 pixel(2D Array) into 784(1d) array for X_train\n",
    "nsamples1, nx1, ny1 = x_test.shape\n",
    "Xtest= x_test.reshape((nsamples1,nx1*ny1))#It is converting our 28*28 pixel(2D Array) into 784(1d) array for X_test\n",
    "ren=Xtrain\n",
    "dfre=pd.DataFrame(ren)\n",
    "dfre['op']=y_train\n",
    "dfren=dfre.sample(frac=0.016, replace=True, random_state=1)# Selecting random Samples from the data set \n",
    "dfren\n",
    "yentrain=dfren['op'].to_numpy()\n",
    "dfren.drop(['op'], axis=1,inplace=True)\n",
    "Xtrainf=dfren.to_numpy()\n",
    "#print(Xtrainf.shape)"
   ]
  },
  {
   "cell_type": "markdown",
   "metadata": {},
   "source": [
    "<h2>Question 1</h2>"
   ]
  },
  {
   "cell_type": "markdown",
   "metadata": {},
   "source": [
    "For this question we have used the k value of 1 and presented the Testing error percentage for each and every digit (0-9) in the mnist data set"
   ]
  },
  {
   "cell_type": "code",
   "execution_count": 10,
   "metadata": {},
   "outputs": [],
   "source": [
    "def Knn(k,x_train,y_train,x_test,y_test):# This function retuns the predicted(y) and accuracy of the model in predicting the test data\n",
    "    model = KNeighborsClassifier(n_neighbors=k)\n",
    "    model.fit(x_train, y_train)\n",
    "    pred=model.predict(x_test)\n",
    "    accuracy = model.score(x_test, y_test)#Calculates the accuracy of our model on testing data\n",
    "    #print(\"For {0} nearest neighbours we got the accuracy of {1}\".format(k,accuracy * 100))\n",
    "    return pred,accuracy"
   ]
  },
  {
   "cell_type": "code",
   "execution_count": 11,
   "metadata": {},
   "outputs": [],
   "source": [
    "def TestErrorDigits(pred,y_test):#This Function Will return a data frame containing testing error for each and every digit\n",
    "    rray=[0,0,0,0,0,0,0,0,0,0]\n",
    "    for i in range(len(y_test)):\n",
    "        if(pred[i]!=y_test[i]):#checking whether our predicted output and given label are same or not\n",
    "            rray[y_test[i]]=rray[y_test[i]]+1\n",
    "    err=[]\n",
    "    (unique, counts) = np.unique(y_test, return_counts=True)#This will give us the output how many times digits are present in the ytest \n",
    "    #print(len(rray))\n",
    "    for i in range(len(rray)):\n",
    "        err.append((rray[i]/counts[i])*100)\n",
    "    d={'Digits':[0,1,2,3,4,5,6,7,8,9],'Testing Error':err}\n",
    "    df=pd.DataFrame(d)\n",
    "    return df    "
   ]
  },
  {
   "cell_type": "code",
   "execution_count": 18,
   "metadata": {},
   "outputs": [
    {
     "data": {
      "text/html": [
       "<div>\n",
       "<style scoped>\n",
       "    .dataframe tbody tr th:only-of-type {\n",
       "        vertical-align: middle;\n",
       "    }\n",
       "\n",
       "    .dataframe tbody tr th {\n",
       "        vertical-align: top;\n",
       "    }\n",
       "\n",
       "    .dataframe thead th {\n",
       "        text-align: right;\n",
       "    }\n",
       "</style>\n",
       "<table border=\"1\" class=\"dataframe\">\n",
       "  <thead>\n",
       "    <tr style=\"text-align: right;\">\n",
       "      <th></th>\n",
       "      <th>Digits</th>\n",
       "      <th>Testing Error</th>\n",
       "    </tr>\n",
       "  </thead>\n",
       "  <tbody>\n",
       "    <tr>\n",
       "      <td>0</td>\n",
       "      <td>0</td>\n",
       "      <td>0.714286</td>\n",
       "    </tr>\n",
       "    <tr>\n",
       "      <td>1</td>\n",
       "      <td>1</td>\n",
       "      <td>0.528634</td>\n",
       "    </tr>\n",
       "    <tr>\n",
       "      <td>2</td>\n",
       "      <td>2</td>\n",
       "      <td>3.875969</td>\n",
       "    </tr>\n",
       "    <tr>\n",
       "      <td>3</td>\n",
       "      <td>3</td>\n",
       "      <td>3.960396</td>\n",
       "    </tr>\n",
       "    <tr>\n",
       "      <td>4</td>\n",
       "      <td>4</td>\n",
       "      <td>3.869654</td>\n",
       "    </tr>\n",
       "    <tr>\n",
       "      <td>5</td>\n",
       "      <td>5</td>\n",
       "      <td>3.587444</td>\n",
       "    </tr>\n",
       "    <tr>\n",
       "      <td>6</td>\n",
       "      <td>6</td>\n",
       "      <td>1.461378</td>\n",
       "    </tr>\n",
       "    <tr>\n",
       "      <td>7</td>\n",
       "      <td>7</td>\n",
       "      <td>3.501946</td>\n",
       "    </tr>\n",
       "    <tr>\n",
       "      <td>8</td>\n",
       "      <td>8</td>\n",
       "      <td>5.544148</td>\n",
       "    </tr>\n",
       "    <tr>\n",
       "      <td>9</td>\n",
       "      <td>9</td>\n",
       "      <td>4.162537</td>\n",
       "    </tr>\n",
       "  </tbody>\n",
       "</table>\n",
       "</div>"
      ],
      "text/plain": [
       "   Digits  Testing Error\n",
       "0       0       0.714286\n",
       "1       1       0.528634\n",
       "2       2       3.875969\n",
       "3       3       3.960396\n",
       "4       4       3.869654\n",
       "5       5       3.587444\n",
       "6       6       1.461378\n",
       "7       7       3.501946\n",
       "8       8       5.544148\n",
       "9       9       4.162537"
      ]
     },
     "execution_count": 18,
     "metadata": {},
     "output_type": "execute_result"
    }
   ],
   "source": [
    "(x,y)=Knn(1,Xtrain,y_train,Xtest,y_test)#k=1\n",
    "table=TestErrorDigits(x,y_test)\n",
    "table"
   ]
  },
  {
   "cell_type": "markdown",
   "metadata": {},
   "source": [
    "<h2>Question 2</h2>"
   ]
  },
  {
   "cell_type": "markdown",
   "metadata": {},
   "source": [
    "In this question we have implemented leaveone out approach for k values 1 to 21 then took the best value of k and trained our model and predicted the values for Xtest. Then we compared the value of Ytest and predictedY and presend a table for the testing error for each digit.We also ploted the leaveoneout error vs k plot."
   ]
  },
  {
   "cell_type": "code",
   "execution_count": 12,
   "metadata": {},
   "outputs": [],
   "source": [
    "def Knn1(k,x_train,y_train,x_test,y_test):# This function will return the predicted y values by using KNN classifier\n",
    "    model = KNeighborsClassifier(n_neighbors=k)\n",
    "    model.fit(x_train, y_train)\n",
    "    pred=model.predict(x_test)\n",
    "    return pred"
   ]
  },
  {
   "cell_type": "code",
   "execution_count": 13,
   "metadata": {},
   "outputs": [],
   "source": [
    "def leaveoneout(Xtrain,y_train):# This function will perform leave one out method and returns the best k value and leaveone out error \n",
    "    tert=Xtrain\n",
    "    nikhil=[]\n",
    "    terty=y_train\n",
    "    error=[0] *20 #since we are considering from k=1 to 21, we initialied an empty array of size 20 \n",
    "    for k in range(1,21):\n",
    "        for i in range(len(tert)):\n",
    "            # Delete column at index 1\n",
    "            tex=tert[i]#This will get us the sample on which we need to perform the test after training our model\n",
    "            #print(tex.shape)\n",
    "            tey=terty[i]\n",
    "            xt = np.delete(tert, i, axis=0)#Deleting our sample from our data that is passed to train.\n",
    "            yt = np.delete(terty, i, axis=0)#Deleting our sample from our label that is passed to train\n",
    "            tex=tex.reshape(1, -1)\n",
    "            #print(tex.shape)\n",
    "            (nik)=Knn1(k,xt,yt,tex,tey)\n",
    "            if(nik[0]!=tey):\n",
    "                #print(\"{0},{1}\".format(nik[0],tey))\n",
    "                error[k-1]=error[k-1]+1\n",
    "            nikhil.append(nik)\n",
    "    preck=error.index(min(error))\n",
    "    #print(preck)\n",
    "    print(\"Best k value is {0}\".format(preck+1)) \n",
    "    return (preck+1),error"
   ]
  },
  {
   "cell_type": "code",
   "execution_count": 12,
   "metadata": {},
   "outputs": [
    {
     "name": "stdout",
     "output_type": "stream",
     "text": [
      "Best k value is 5\n",
      "execution time is 2288.078125 seconds\n"
     ]
    },
    {
     "data": {
      "text/html": [
       "<div>\n",
       "<style scoped>\n",
       "    .dataframe tbody tr th:only-of-type {\n",
       "        vertical-align: middle;\n",
       "    }\n",
       "\n",
       "    .dataframe tbody tr th {\n",
       "        vertical-align: top;\n",
       "    }\n",
       "\n",
       "    .dataframe thead th {\n",
       "        text-align: right;\n",
       "    }\n",
       "</style>\n",
       "<table border=\"1\" class=\"dataframe\">\n",
       "  <thead>\n",
       "    <tr style=\"text-align: right;\">\n",
       "      <th></th>\n",
       "      <th>Digits</th>\n",
       "      <th>Testing Error</th>\n",
       "    </tr>\n",
       "  </thead>\n",
       "  <tbody>\n",
       "    <tr>\n",
       "      <td>0</td>\n",
       "      <td>0</td>\n",
       "      <td>0.612245</td>\n",
       "    </tr>\n",
       "    <tr>\n",
       "      <td>1</td>\n",
       "      <td>1</td>\n",
       "      <td>0.176211</td>\n",
       "    </tr>\n",
       "    <tr>\n",
       "      <td>2</td>\n",
       "      <td>2</td>\n",
       "      <td>3.972868</td>\n",
       "    </tr>\n",
       "    <tr>\n",
       "      <td>3</td>\n",
       "      <td>3</td>\n",
       "      <td>3.366337</td>\n",
       "    </tr>\n",
       "    <tr>\n",
       "      <td>4</td>\n",
       "      <td>4</td>\n",
       "      <td>3.869654</td>\n",
       "    </tr>\n",
       "    <tr>\n",
       "      <td>5</td>\n",
       "      <td>5</td>\n",
       "      <td>3.363229</td>\n",
       "    </tr>\n",
       "    <tr>\n",
       "      <td>6</td>\n",
       "      <td>6</td>\n",
       "      <td>1.356994</td>\n",
       "    </tr>\n",
       "    <tr>\n",
       "      <td>7</td>\n",
       "      <td>7</td>\n",
       "      <td>3.891051</td>\n",
       "    </tr>\n",
       "    <tr>\n",
       "      <td>8</td>\n",
       "      <td>8</td>\n",
       "      <td>6.262834</td>\n",
       "    </tr>\n",
       "    <tr>\n",
       "      <td>9</td>\n",
       "      <td>9</td>\n",
       "      <td>4.658077</td>\n",
       "    </tr>\n",
       "  </tbody>\n",
       "</table>\n",
       "</div>"
      ],
      "text/plain": [
       "   Digits  Testing Error\n",
       "0       0       0.612245\n",
       "1       1       0.176211\n",
       "2       2       3.972868\n",
       "3       3       3.366337\n",
       "4       4       3.869654\n",
       "5       5       3.363229\n",
       "6       6       1.356994\n",
       "7       7       3.891051\n",
       "8       8       6.262834\n",
       "9       9       4.658077"
      ]
     },
     "execution_count": 12,
     "metadata": {},
     "output_type": "execute_result"
    }
   ],
   "source": [
    "start_time = time.process_time()\n",
    "(b,acc)=leaveoneout(Xtrainf,yentrain)#here b willcontain  the best value of k and acc will contain the leave one out error\n",
    "(xe2,ye2)=Knn(b,Xtrain,y_train,Xtest,y_test)\n",
    "table=TestErrorDigits(xe2,y_test)\n",
    "print(\"execution time is\",time.process_time() - start_time, \"seconds\")\n",
    "table"
   ]
  },
  {
   "cell_type": "markdown",
   "metadata": {},
   "source": [
    "<h5>K Vs Leaveone out error</h5>"
   ]
  },
  {
   "cell_type": "code",
   "execution_count": 13,
   "metadata": {},
   "outputs": [
    {
     "data": {
      "image/png": "[encoded data removed]",
      "text/plain": [
       "<Figure size 432x288 with 1 Axes>"
      ]
     },
     "metadata": {
      "needs_background": "light"
     },
     "output_type": "display_data"
    }
   ],
   "source": [
    "x=[1,2,3,4,5,6,7,8,9,10,11,12,13,14,15,16,17,18,19,20]\n",
    "plt.plot(x,acc)\n",
    "ly=max(acc)\n",
    "#plt.axis([0, 21, 0, 140])\n",
    "plt.xlabel('k')\n",
    "plt.ylabel('Leaveone out error')\n",
    "plt.title('k vs Leaveone out error')\n",
    "plt.show()"
   ]
  },
  {
   "cell_type": "markdown",
   "metadata": {},
   "source": [
    "From the above graph we can say that k=5 have the least leaveoneout error "
   ]
  },
  {
   "cell_type": "markdown",
   "metadata": {},
   "source": [
    "<h2>Question 3</h2>"
   ]
  },
  {
   "cell_type": "markdown",
   "metadata": {},
   "source": [
    "In this question we implemented the downsamper on the data set by using a downsampler scaler of 2,4,7 and 14."
   ]
  },
  {
   "cell_type": "code",
   "execution_count": 37,
   "metadata": {},
   "outputs": [],
   "source": [
    "def downsap(Xtrain,Xtest,i):# this function will return the downsampled numpy arrays for both test and training data set\n",
    "    dr=pd.DataFrame(Xtrain)#converts our xtrain numpy array into a data frame\n",
    "    dr1=dr[dr.columns[::i]]# It will pick every i th column in the data frame and stores it in a new data frame\n",
    "    Xtrain1=dr1.to_numpy()\n",
    "    dr2=pd.DataFrame(Xtest)#converts our xtrain numpy array into a data frame\n",
    "    dr3=dr2[dr2.columns[::i]]# It will pick every i th column in the data frame and stores it in a new data frame\n",
    "    Xtest1=dr3.to_numpy()\n",
    "    return Xtrain1,Xtest1\n",
    "    "
   ]
  },
  {
   "cell_type": "code",
   "execution_count": 38,
   "metadata": {},
   "outputs": [
    {
     "name": "stdout",
     "output_type": "stream",
     "text": [
      "for n=2\n",
      "-------------------\n",
      "Best k value is 3\n",
      "Accuracy: 0.8776\n",
      "-----------------\n",
      "for n=4\n",
      "-------------------\n",
      "Best k value is 1\n",
      "Accuracy: 0.8073\n",
      "-----------------\n",
      "for n=7\n",
      "-------------------\n",
      "Best k value is 1\n",
      "Accuracy: 0.6975\n",
      "-----------------\n",
      "for n=14\n",
      "-------------------\n",
      "Best k value is 9\n",
      "Accuracy: 0.6258\n",
      "-----------------\n",
      "execution time is 381.421875 seconds\n"
     ]
    }
   ],
   "source": [
    "start_time = time.process_time()\n",
    "e = [[0 for i in range(5)] for j in range(20)] #empty matrix\n",
    "n=[2,4,7,14]#scaling values for down sampling\n",
    "err2=[]\n",
    "for i in n:\n",
    "    p=n.index(i)\n",
    "    (t,r)=downsap(Xtrainf,Xtest,i)\n",
    "    print(\"for n={0}\".format(i))\n",
    "    print(\"-------------------\")\n",
    "    (b1,acc1)=leaveoneout(t,yentrain)\n",
    "    (x2,y2)=Knn(b1,t,yentrain,r,y_test)\n",
    "    print(\"Accuracy: {0}\".format(y2))\n",
    "    print(\"-----------------\") \n",
    "#print(e)\n",
    "print(\"execution time is\",time.process_time() - start_time, \"seconds\")"
   ]
  },
  {
   "cell_type": "markdown",
   "metadata": {},
   "source": [
    "<h5>As we can see from the results that as the n values(i.e downsampling rate) increases the accuracy of the model is getting decreased.Execution time is 381.421875 seconds</h5>"
   ]
  },
  {
   "cell_type": "markdown",
   "metadata": {},
   "source": [
    "<h2>Question 4</h2>"
   ]
  },
  {
   "cell_type": "markdown",
   "metadata": {},
   "source": [
    "In this question we implemented the smart sampler on the data set by using a smart sampler scaler of 2,4,7 and 14. we have considered the 784(1d) pixels and added avery n(depends on the n value) elements and stored it in a list.Then we splitted the list into  N chuncks of size 28. Then added every nth element in the list.(i.e each list will make a row in our final (28/n)X(28/n) matrix. "
   ]
  },
  {
   "cell_type": "code",
   "execution_count": 41,
   "metadata": {},
   "outputs": [],
   "source": [
    "def smartsample(n,Xtrain):#This function will return an numpy array after smart down sampling it\n",
    "    p=Xtrain\n",
    "    finaes=[]\n",
    "    ycol=int(28/n)#we will get the number of columns in our final smart sample matrix from here\n",
    "    #print(p.shape)\n",
    "    it=p.shape\n",
    "    m=it[1]/n\n",
    "    #print(int(m))\n",
    "    e1 = [[0 for i in range(ycol*ycol)] for j in range(it[0])]\n",
    "    #print(it[0])\n",
    "    for i in range(it[0]):\n",
    "        jun=[]\n",
    "        fin=[]\n",
    "        resur=[]\n",
    "        rest=np.add.reduceat(p[i], np.arange(0, len(p[i]), n))#This will add the every n elements in 784 pixels and give us the output list of length (784/n)\n",
    "        jun=rest.tolist()  \n",
    "        n1=28# initial dimention of our matrix \n",
    "        #print(len(jun))\n",
    "        for i in range(0, len(jun), n1):# we are making sublists of our (784/n) list each containing 28 elements\n",
    "            #print(i)\n",
    "            fin.append(jun[i:i+n1])\n",
    "        for i in range(len(fin)):#now we are adding every nth element in our sublists so now each list will contribute to a column\n",
    "            for j in range(ycol):\n",
    "                resur.append(sum(fin[i][j::ycol]))\n",
    "        #print((resur)) \n",
    "        finaes.append(resur)# list containing smart sample image pixes for our data\n",
    "        #print(type(e1[i]))\n",
    "    #print(finaes)\n",
    "    a = np.array(finaes)\n",
    "    #print(a)\n",
    "    return a# A numpy array containing all the reduced samples of dataset "
   ]
  },
  {
   "cell_type": "code",
   "execution_count": 42,
   "metadata": {},
   "outputs": [
    {
     "name": "stdout",
     "output_type": "stream",
     "text": [
      "for n=2\n",
      "------------------\n",
      "Best k value is 3\n",
      "Accuracy: 0.8964\n",
      "-----------------\n",
      "for n=4\n",
      "------------------\n",
      "Best k value is 1\n",
      "Accuracy: 0.8688\n",
      "-----------------\n",
      "for n=7\n",
      "------------------\n",
      "Best k value is 5\n",
      "Accuracy: 0.7219\n",
      "-----------------\n",
      "for n=14\n",
      "------------------\n",
      "Best k value is 8\n",
      "Accuracy: 0.4224\n",
      "-----------------\n",
      "execution time is 164.140625 seconds\n"
     ]
    }
   ],
   "source": [
    "n=[2,4,7,14]#list containing smart down sampler numbers\n",
    "start_time = time.process_time()\n",
    "for i in n:\n",
    "    i0=smartsample(i,Xtrainf)# it will give us the smart sampled raining error\n",
    "    i12=smartsample(i,Xtest)\n",
    "    print(\"for n={0}\".format(i))\n",
    "    print(\"------------------\")\n",
    "    (b1,acc1)=leaveoneout(i0,yentrain)\n",
    "    (x2,y2)=Knn(b1,i0,yentrain,i12,y_test)\n",
    "    print(\"Accuracy: {0}\".format(y2))\n",
    "    print(\"-----------------\")   \n",
    "print(\"execution time is\",time.process_time() - start_time, \"seconds\")"
   ]
  },
  {
   "cell_type": "markdown",
   "metadata": {},
   "source": [
    "<h5>As we can see from the results that as we increase the n value(i.e smartsampling rate) the accuracy of the model is getting decreased.Execution time is 164.140625 seconds</h5>"
   ]
  },
  {
   "cell_type": "markdown",
   "metadata": {},
   "source": [
    "<h5> Image after using smart sampler</h5>"
   ]
  },
  {
   "cell_type": "code",
   "execution_count": 32,
   "metadata": {},
   "outputs": [
    {
     "data": {
      "text/plain": [
       "<matplotlib.image.AxesImage at 0x1b140b46f48>"
      ]
     },
     "execution_count": 32,
     "metadata": {},
     "output_type": "execute_result"
    },
    {
     "data": {
      "image/png": "[encoded data removed]",
      "text/plain": [
       "<Figure size 432x288 with 1 Axes>"
      ]
     },
     "metadata": {
      "needs_background": "light"
     },
     "output_type": "display_data"
    }
   ],
   "source": [
    "rty=pd.DataFrame(Xtrain)\n",
    "r3=rty.loc[0,:]\n",
    "plottable_image = np.reshape(r3.values, (28, 28))\n",
    "plt.imshow(plottable_image)"
   ]
  },
  {
   "cell_type": "markdown",
   "metadata": {},
   "source": [
    "<h5> Image after using smart sampler(n=14)</h5>"
   ]
  },
  {
   "cell_type": "code",
   "execution_count": 44,
   "metadata": {},
   "outputs": [
    {
     "data": {
      "text/plain": [
       "<matplotlib.image.AxesImage at 0x1b1406b2a88>"
      ]
     },
     "execution_count": 44,
     "metadata": {},
     "output_type": "execute_result"
    },
    {
     "data": {
      "image/png": "[encoded data removed]",
      "text/plain": [
       "<Figure size 432x288 with 1 Axes>"
      ]
     },
     "metadata": {
      "needs_background": "light"
     },
     "output_type": "display_data"
    }
   ],
   "source": [
    "rty=pd.DataFrame(i0)\n",
    "r3=rty.loc[0,:]\n",
    "plottable_image = np.reshape(r3.values, (2, 2))\n",
    "plt.imshow(plottable_image)"
   ]
  },
  {
   "cell_type": "markdown",
   "metadata": {},
   "source": [
    "<h5>As we can see from the results that as we increase the n value(i.e downsampling rate) the accuracy of the model is getting decreased.And we can see that execution time is 165.640625 seconds</h5>"
   ]
  },
  {
   "cell_type": "markdown",
   "metadata": {},
   "source": [
    "<h2>Question5</h2>"
   ]
  },
  {
   "cell_type": "markdown",
   "metadata": {},
   "source": [
    "In this question we have implemented smart sampler by taking the n values as 28 so our image matrix will be reduced to 1X1. Due to the time complexity we have taken only 1000 samples from the training data set to perform this task"
   ]
  },
  {
   "cell_type": "code",
   "execution_count": 53,
   "metadata": {},
   "outputs": [
    {
     "name": "stdout",
     "output_type": "stream",
     "text": [
      "Best k value is 19\n",
      "Accuracy: 0.2008\n",
      "execution time is 16.609375 seconds\n"
     ]
    }
   ],
   "source": [
    "start_time = time.process_time()\n",
    "i1=smartsample(28,Xtrainf)# for n=28\n",
    "i13=smartsample(28,Xtest)\n",
    "(b2,acc2)=leaveoneout(i1,yentrain)\n",
    "(x2,y2)=Knn(b2,i1,yentrain,i13,y_test)\n",
    "print(\"Accuracy: {0}\".format(y2))\n",
    "print(\"execution time is\",time.process_time() - start_time, \"seconds\")"
   ]
  },
  {
   "cell_type": "markdown",
   "metadata": {},
   "source": [
    "<h5>As we can see from the results that accuracy is 0.2. Accuracy is low because we are down scaling the whole image into (1X1) so it will a single pixel(sum of all). So when we train the model with this single pixel it will be very difficult for the model to predict the output. And we can see that execution time is 16.609375 seconds</h5>"
   ]
  },
  {
   "cell_type": "markdown",
   "metadata": {},
   "source": [
    "<h5> Image before using smart sampler(n=28)</h5>"
   ]
  },
  {
   "cell_type": "code",
   "execution_count": 47,
   "metadata": {},
   "outputs": [
    {
     "data": {
      "text/plain": [
       "<matplotlib.image.AxesImage at 0x1b140d1a748>"
      ]
     },
     "execution_count": 47,
     "metadata": {},
     "output_type": "execute_result"
    },
    {
     "data": {
      "image/png": "[encoded data removed]",
      "text/plain": [
       "<Figure size 432x288 with 1 Axes>"
      ]
     },
     "metadata": {
      "needs_background": "light"
     },
     "output_type": "display_data"
    }
   ],
   "source": [
    "rty1=pd.DataFrame(Xtrain)\n",
    "r3=rty1.loc[0,:]\n",
    "plottable_image = np.reshape(r3.values, (28, 28))\n",
    "plt.imshow(plottable_image)"
   ]
  },
  {
   "cell_type": "markdown",
   "metadata": {},
   "source": [
    "<h5> Image after using smart sampler(n=28)</h5>"
   ]
  },
  {
   "cell_type": "code",
   "execution_count": 54,
   "metadata": {},
   "outputs": [
    {
     "data": {
      "text/plain": [
       "<matplotlib.image.AxesImage at 0x1b140a2f848>"
      ]
     },
     "execution_count": 54,
     "metadata": {},
     "output_type": "execute_result"
    },
    {
     "data": {
      "image/png": "[encoded data removed]",
      "text/plain": [
       "<Figure size 432x288 with 1 Axes>"
      ]
     },
     "metadata": {
      "needs_background": "light"
     },
     "output_type": "display_data"
    }
   ],
   "source": [
    "import matplotlib.pyplot as plt\n",
    "rty=pd.DataFrame(i1)\n",
    "r3=rty.loc[0,:]\n",
    "plottable_image = np.reshape(r3.values, (1, 1))\n",
    "plt.imshow(plottable_image)"
   ]
  },
  {
   "cell_type": "code",
   "execution_count": 58,
   "metadata": {},
   "outputs": [
    {
     "name": "stdout",
     "output_type": "stream",
     "text": [
      "Total number of pixels for number 8:[35241]\n",
      "Total number of pixels for number 1:[11900]\n"
     ]
    }
   ],
   "source": [
    "print(\"Total number of pixels for number 8:{0}\".format(i1[21]))\n",
    "print(\"Total number of pixels for number 1:{0}\".format(i1[27]))"
   ]
  },
  {
   "cell_type": "markdown",
   "metadata": {},
   "source": [
    "From the above total number of pixels(1X1) for each and every image we can say that digit '8' have more dark pixels than digit '1'"
   ]
  },
  {
   "cell_type": "markdown",
   "metadata": {},
   "source": [
    "<h2>Question6</h2>"
   ]
  },
  {
   "cell_type": "markdown",
   "metadata": {},
   "source": [
    "PCA is unsupervised nonparametric statistical technique primarily used for dimensionality reduction in Machine Learning. It is widely use across different fields prominently for feature extraction. The primary problem associated with high dimensionality is model overfitting which reduces the ability to generalise beyond the examples in the training set. Many algorithms that work fine in lower dimensions become hard to control the high dimensions input. PCA can be used to filter the noise datasets such as image compression.\n",
    "\n",
    "Complete steps for PCA:\n",
    "\n",
    "1)\tThe first step is to find the mean of each column in the complete data set.\n",
    "     Mean is ratio of sum of all values in the column to number of variables in the column.\n",
    "     \n",
    "2)\tThen need to centre the values in each column by subtracting the values from the mean.\n",
    "     Each variable in X - mean(X)\n",
    "3)\tA covariance matrix is a calculation of covariance of a given matrix with covariance scores for every column with every other column, including itself.\n",
    "\n",
    "     Covariance: Covariance is a measure of how much two random variables vary together. It’s similar to variance, but where variance tells you how a single variable varies, co variance tells you how two variables vary together. \n"
   ]
  },
  {
   "cell_type": "code",
   "execution_count": 15,
   "metadata": {},
   "outputs": [
    {
     "data": {
      "text/html": [
       "<img src = \"asd.png\",width=20,height=10> \n"
      ],
      "text/plain": [
       "<IPython.core.display.HTML object>"
      ]
     },
     "metadata": {},
     "output_type": "display_data"
    }
   ],
   "source": [
    "%%html\n",
    "<img src = \"asd.png\",width=20,height=10> "
   ]
  },
  {
   "cell_type": "markdown",
   "metadata": {},
   "source": [
    "\n",
    "4)\tThen calculate the eigen decomposition of the covariance matrix. (Eigen values represent the magnitudes for the direction).\n",
    "5)\tThe eigenvectors can be sorted by the eigenvalues in descending order to provide a ranking of the components or axes of the new subspace for the data frame.\n",
    "\n",
    "The eigenvalues of A are roots of the characteristic equation\n",
    "  det(A-λI) = 0 where I is the identity matrix.\n",
    "        \n",
    "        The eigenvectors and eigenvalues of a covariance (or correlation) matrix represent the “core” of a PCA: The eigenvectors (principal components) determine the directions of the new feature space, and the eigenvalues determine their magnitude. In other words, the eigenvalues explain the variance of the data along the new feature axes.\n",
    "        \n",
    "6)\tThe chosen data can be projected into the subspace via matrix multiplication. "
   ]
  },
  {
   "cell_type": "code",
   "execution_count": 16,
   "metadata": {},
   "outputs": [],
   "source": [
    "fre=pd.DataFrame(Xtrain)\n",
    "fre1=pd.DataFrame(Xtest)\n",
    "fre2=pd.concat([fre, fre1])\n",
    "#fre2 = fre2.reindex(index=[i for i in range(fre2.shape[0])])\n",
    "fre2.reset_index()\n",
    "xpc=fre2.to_numpy()\n",
    "xpc=(xpc-xpc.mean())/xpc.std() #standardisation "
   ]
  },
  {
   "cell_type": "code",
   "execution_count": 20,
   "metadata": {},
   "outputs": [
    {
     "name": "stderr",
     "output_type": "stream",
     "text": [
      "C:\\ProgramData\\Anaconda3\\lib\\site-packages\\ipykernel_launcher.py:9: SettingWithCopyWarning: \n",
      "A value is trying to be set on a copy of a slice from a DataFrame.\n",
      "Try using .loc[row_indexer,col_indexer] = value instead\n",
      "\n",
      "See the caveats in the documentation: http://pandas.pydata.org/pandas-docs/stable/user_guide/indexing.html#returning-a-view-versus-a-copy\n",
      "  if __name__ == '__main__':\n"
     ]
    },
    {
     "name": "stdout",
     "output_type": "stream",
     "text": [
      "for number of components:2\n",
      "-----------------\n",
      "Best k value is 8\n",
      "Accuracy: 0.4277\n",
      "-----------------\n"
     ]
    },
    {
     "name": "stderr",
     "output_type": "stream",
     "text": [
      "C:\\ProgramData\\Anaconda3\\lib\\site-packages\\ipykernel_launcher.py:9: SettingWithCopyWarning: \n",
      "A value is trying to be set on a copy of a slice from a DataFrame.\n",
      "Try using .loc[row_indexer,col_indexer] = value instead\n",
      "\n",
      "See the caveats in the documentation: http://pandas.pydata.org/pandas-docs/stable/user_guide/indexing.html#returning-a-view-versus-a-copy\n",
      "  if __name__ == '__main__':\n"
     ]
    },
    {
     "name": "stdout",
     "output_type": "stream",
     "text": [
      "for number of components:10\n",
      "-----------------\n",
      "Best k value is 6\n",
      "Accuracy: 0.8483\n",
      "-----------------\n"
     ]
    },
    {
     "name": "stderr",
     "output_type": "stream",
     "text": [
      "C:\\ProgramData\\Anaconda3\\lib\\site-packages\\ipykernel_launcher.py:9: SettingWithCopyWarning: \n",
      "A value is trying to be set on a copy of a slice from a DataFrame.\n",
      "Try using .loc[row_indexer,col_indexer] = value instead\n",
      "\n",
      "See the caveats in the documentation: http://pandas.pydata.org/pandas-docs/stable/user_guide/indexing.html#returning-a-view-versus-a-copy\n",
      "  if __name__ == '__main__':\n"
     ]
    },
    {
     "name": "stdout",
     "output_type": "stream",
     "text": [
      "for number of components:25\n",
      "-----------------\n",
      "Best k value is 7\n",
      "Accuracy: 0.9033\n",
      "-----------------\n"
     ]
    },
    {
     "name": "stderr",
     "output_type": "stream",
     "text": [
      "C:\\ProgramData\\Anaconda3\\lib\\site-packages\\ipykernel_launcher.py:9: SettingWithCopyWarning: \n",
      "A value is trying to be set on a copy of a slice from a DataFrame.\n",
      "Try using .loc[row_indexer,col_indexer] = value instead\n",
      "\n",
      "See the caveats in the documentation: http://pandas.pydata.org/pandas-docs/stable/user_guide/indexing.html#returning-a-view-versus-a-copy\n",
      "  if __name__ == '__main__':\n"
     ]
    },
    {
     "name": "stdout",
     "output_type": "stream",
     "text": [
      "for number of components:50\n",
      "-----------------\n",
      "Best k value is 4\n",
      "Accuracy: 0.9019\n",
      "-----------------\n"
     ]
    },
    {
     "name": "stderr",
     "output_type": "stream",
     "text": [
      "C:\\ProgramData\\Anaconda3\\lib\\site-packages\\ipykernel_launcher.py:9: SettingWithCopyWarning: \n",
      "A value is trying to be set on a copy of a slice from a DataFrame.\n",
      "Try using .loc[row_indexer,col_indexer] = value instead\n",
      "\n",
      "See the caveats in the documentation: http://pandas.pydata.org/pandas-docs/stable/user_guide/indexing.html#returning-a-view-versus-a-copy\n",
      "  if __name__ == '__main__':\n"
     ]
    },
    {
     "name": "stdout",
     "output_type": "stream",
     "text": [
      "for number of components:100\n",
      "-----------------\n",
      "Best k value is 7\n",
      "Accuracy: 0.8908\n",
      "-----------------\n"
     ]
    },
    {
     "name": "stderr",
     "output_type": "stream",
     "text": [
      "C:\\ProgramData\\Anaconda3\\lib\\site-packages\\ipykernel_launcher.py:9: SettingWithCopyWarning: \n",
      "A value is trying to be set on a copy of a slice from a DataFrame.\n",
      "Try using .loc[row_indexer,col_indexer] = value instead\n",
      "\n",
      "See the caveats in the documentation: http://pandas.pydata.org/pandas-docs/stable/user_guide/indexing.html#returning-a-view-versus-a-copy\n",
      "  if __name__ == '__main__':\n"
     ]
    },
    {
     "name": "stdout",
     "output_type": "stream",
     "text": [
      "for number of components:196\n",
      "-----------------\n",
      "Best k value is 7\n",
      "Accuracy: 0.8851\n",
      "-----------------\n",
      "execution time is 421.421875 seconds\n"
     ]
    }
   ],
   "source": [
    "start_time = time.process_time()\n",
    "accpca=[2,10,25,50,100,196]\n",
    "accpc=[]\n",
    "for j in accpca:\n",
    "    pca = PCA(n_components=j)\n",
    "    principalComponents = pca.fit_transform(xpc)\n",
    "    principalDf = pd.DataFrame(data = principalComponents)\n",
    "    rens=principalDf[:60000]\n",
    "    rens['op']=y_train.tolist()\n",
    "    dfrens1=rens.sample(frac=0.0167, replace=True, random_state=1)# Selecting random Samples from the data set \n",
    "    ytre=dfrens1['op'].to_numpy()\n",
    "    dfrens1.drop(['op'], axis=1,inplace=True)\n",
    "    rens=dfrens1.to_numpy()#Train data samples\n",
    "    print(\"for number of components:{0}\".format(j))\n",
    "    print(\"-----------------\")   \n",
    "    rens1=principalDf[60000:]#test data samples\n",
    "    (ke1,ke2)=leaveoneout(rens,ytre)# performing leaveoneout method to get the best value of k\n",
    "    (x2,y2)=Knn(ke1,rens,ytre,rens1,y_test)#By using the best value of k we are predicting the accuracy by using knn classifier\n",
    "    print(\"Accuracy: {0}\".format(y2))\n",
    "    print(\"-----------------\")   \n",
    "    accpc.append(y2)\n",
    "print(\"execution time is\",time.process_time() - start_time, \"seconds\")    "
   ]
  },
  {
   "cell_type": "markdown",
   "metadata": {},
   "source": [
    "<h5>From the above results we can say that for the number of components=25 we got the highest accuracy for the model and the execution time is 421.421875 seconds</h5>"
   ]
  },
  {
   "cell_type": "markdown",
   "metadata": {},
   "source": [
    "<h5>Amount of variance plot</h5>"
   ]
  },
  {
   "cell_type": "code",
   "execution_count": 18,
   "metadata": {},
   "outputs": [
    {
     "data": {
      "image/png": "[encoded data removed]",
      "text/plain": [
       "<Figure size 432x288 with 1 Axes>"
      ]
     },
     "metadata": {
      "needs_background": "light"
     },
     "output_type": "display_data"
    }
   ],
   "source": [
    "pca = PCA().fit(xpc)\n",
    "plt.plot(np.cumsum(pca.explained_variance_ratio_))\n",
    "plt.title('Amount of variance explained')\n",
    "plt.xlabel('number of components')\n",
    "plt.ylabel('cumulative explained variance');"
   ]
  },
  {
   "cell_type": "markdown",
   "metadata": {},
   "source": [
    "We can observe from the above graph that the amount of variance of 80% can be seen for around 60 number of components.\n",
    "We can observe from the above graph that the amount of variance of 90% can be seen for around 100 number of components.\n",
    "Whereas we can observe from the abovegraph that the amount of variance of 100% can be seen for around 375 number of components."
   ]
  },
  {
   "cell_type": "markdown",
   "metadata": {},
   "source": [
    "<h5>Accuracy vs Number of components plot</h5>"
   ]
  },
  {
   "cell_type": "code",
   "execution_count": 45,
   "metadata": {},
   "outputs": [
    {
     "data": {
      "image/png": "[encoded data removed]",
      "text/plain": [
       "<Figure size 432x288 with 1 Axes>"
      ]
     },
     "metadata": {
      "needs_background": "light"
     },
     "output_type": "display_data"
    }
   ],
   "source": [
    "plt.plot(accpca,accpc)\n",
    "plt.title('Accuracy plot for ncomponents(2,10,25,50,100,196)')\n",
    "plt.xlabel('number of components')\n",
    "plt.ylabel('Accuracy');"
   ]
  },
  {
   "cell_type": "markdown",
   "metadata": {},
   "source": [
    "In the above problem we have considered number of components in the PCA as 2,10,25,50,100,196. We have got the accuracies of model when number of components are 2,10,25,50,100,196. We can observe from the above figure we cann say that the accuracy when number of components =25 is around 90%."
   ]
  },
  {
   "cell_type": "code",
   "execution_count": null,
   "metadata": {},
   "outputs": [],
   "source": []
  }
 ],
 "metadata": {
  "kernelspec": {
   "display_name": "Python 3",
   "language": "python",
   "name": "python3"
  },
  "language_info": {
   "codemirror_mode": {
    "name": "ipython",
    "version": 3
   },
   "file_extension": ".py",
   "mimetype": "text/x-python",
   "name": "python",
   "nbconvert_exporter": "python",
   "pygments_lexer": "ipython3",
   "version": "3.7.4"
  }
 },
 "nbformat": 4,
 "nbformat_minor": 2
}
